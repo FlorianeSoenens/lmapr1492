{
 "cells": [
  {
   "cell_type": "code",
   "execution_count": 7,
   "id": "680621f4",
   "metadata": {
    "scrolled": true
   },
   "outputs": [],
   "source": [
    "from pymatgen.ext.matproj import MPRester\n",
    "from pymatgen.core import Lattice, Structure, Molecule\n",
    "\n",
    "with MPRester(\"anJWfQsT0ZKuEBip\") as m:\n",
    "\n",
    "    # Structure for material id\n",
    "    structure_1 = m.get_structure_by_material_id(\"mp-961661\")\n",
    "\n",
    "    # Dos for material id\n",
    "    dos = m.get_dos_by_material_id(\"mp-961661\")\n",
    "\n",
    "    # Bandstructure for material id\n",
    "    bandstructure = m.get_bandstructure_by_material_id(\"mp-961661\")\n",
    "    \n",
    "    #To get a list of data for all entries having formula ZrSiPd\n",
    "    data = m.get_data(\"ZrSiPd\")\n",
    "    \n",
    "    structure_2 = Structure.from_file(\"ZrSiPd_mp-961661_symmetrized.cif\")\n",
    "    "
   ]
  },
  {
   "cell_type": "code",
   "execution_count": null,
   "id": "2e9d9dd1",
   "metadata": {},
   "outputs": [],
   "source": []
  }
 ],
 "metadata": {
  "kernelspec": {
   "display_name": "Python 3 (ipykernel)",
   "language": "python",
   "name": "python3"
  },
  "language_info": {
   "codemirror_mode": {
    "name": "ipython",
    "version": 3
   },
   "file_extension": ".py",
   "mimetype": "text/x-python",
   "name": "python",
   "nbconvert_exporter": "python",
   "pygments_lexer": "ipython3",
   "version": "3.9.6"
  }
 },
 "nbformat": 4,
 "nbformat_minor": 5
}
