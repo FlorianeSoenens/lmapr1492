{
 "cells": [
  {
   "cell_type": "code",
   "execution_count": 31,
   "id": "25a0d983",
   "metadata": {},
   "outputs": [],
   "source": [
    "from pymatgen.ext.matproj import MPRester\n",
    "from pymatgen.symmetry.analyzer import SpacegroupAnalyzer\n",
    "\n",
    "with MPRester(\"anJWfQsT0ZKuEBip\") as m:\n",
    "\n",
    "    # Structure for material id\n",
    "    struct = m.get_structure_by_material_id(\"mp-961661\")"
   ]
  },
  {
   "cell_type": "code",
   "execution_count": 51,
   "id": "a90ab813",
   "metadata": {},
   "outputs": [
    {
     "name": "stdout",
     "output_type": "stream",
     "text": [
      "Vecteurs de bases du réseau direct a,b,c sont :\n",
      "a =  [0.       3.057158 3.057158]\n",
      "b =  [3.057158 0.       3.057158]\n",
      "c =  [3.057158 3.057158 0.      ]\n",
      " \n",
      "Vecteurs de bases du réseau réciproque a*, b*, c* sont :\n",
      "a* =  [-1.02761868  1.02761868  1.02761868]\n",
      "b* =  [ 1.02761868 -1.02761868  1.02761868]\n",
      "c* =  [ 1.02761868  1.02761868 -1.02761868]\n",
      "\n",
      "Le type de maille est : cubic\n",
      "\n",
      "Le système cristallin est : cubic\n",
      "\n",
      "Le groupe ponctuel est : -43m\n"
     ]
    }
   ],
   "source": [
    "# Vecteurs de bases du réseau direct\n",
    "vect = struct.lattice\n",
    "matrix_direct = vect.matrix\n",
    "\n",
    "print(\"Vecteurs de bases du réseau direct a,b,c sont :\")\n",
    "print(\"a = \", matrix_direct[0])\n",
    "print(\"b = \", matrix_direct[1])\n",
    "print(\"c = \", matrix_direct[2])\n",
    "\n",
    "\n",
    "# Vecteurs de bases du réseau réciproque\n",
    "\n",
    "vect_r = struct.lattice.reciprocal_lattice\n",
    "matrix_rec = vect_r.matrix\n",
    "\n",
    "print(\" \")\n",
    "print(\"Vecteurs de bases du réseau réciproque a*, b*, c* sont :\")\n",
    "print(\"a* = \", matrix_rec[0])\n",
    "print(\"b* = \", matrix_rec[1])\n",
    "print(\"c* = \", matrix_rec[2])\n",
    "\n",
    "# Type de maille\n",
    "type_maille = SpacegroupAnalyzer(struct).get_lattice_type()\n",
    "\n",
    "# Système cristallin\n",
    "syst_cristal = SpacegroupAnalyzer(struct).get_crystal_system() \n",
    "\n",
    "# Groupe ponctuel \n",
    "group_ponctuel = SpacegroupAnalyzer(struct).get_point_group_symbol()\n",
    "\n",
    "print(\"\")\n",
    "print(\"Le type de maille est :\", type_maille)\n",
    "print(\"\")\n",
    "print(\"Le système cristallin est :\", syst_cristal)\n",
    "print(\"\")\n",
    "print(\"Le groupe ponctuel est :\", group_ponctuel) \n"
   ]
  },
  {
   "cell_type": "code",
   "execution_count": null,
   "id": "e0d6595e",
   "metadata": {},
   "outputs": [],
   "source": []
  }
 ],
 "metadata": {
  "kernelspec": {
   "display_name": "Python 3 (ipykernel)",
   "language": "python",
   "name": "python3"
  },
  "language_info": {
   "codemirror_mode": {
    "name": "ipython",
    "version": 3
   },
   "file_extension": ".py",
   "mimetype": "text/x-python",
   "name": "python",
   "nbconvert_exporter": "python",
   "pygments_lexer": "ipython3",
   "version": "3.9.6"
  }
 },
 "nbformat": 4,
 "nbformat_minor": 5
}
